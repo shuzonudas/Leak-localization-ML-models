{
 "cells": [
  {
   "cell_type": "code",
   "execution_count": null,
   "id": "F24ApRE_9moT",
   "metadata": {
    "colab": {
     "base_uri": "https://localhost:8080/"
    },
    "id": "F24ApRE_9moT",
    "outputId": "027dd585-2d76-4c88-b23b-4f132ddbafc2"
   },
   "outputs": [
    {
     "name": "stdout",
     "output_type": "stream",
     "text": [
      "Mounted at /content/drive\n"
     ]
    }
   ],
   "source": [
    "from google.colab import drive\n",
    "drive.mount('/content/drive')\n",
    "location ='/content/drive/MyDrive/_originalSet_/_20_pos/'"
   ]
  },
  {
   "cell_type": "code",
   "execution_count": null,
   "id": "9acd035e-333e-440f-8416-5c1c1091f017",
   "metadata": {
    "id": "9acd035e-333e-440f-8416-5c1c1091f017"
   },
   "outputs": [],
   "source": [
    "import librosa\n",
    "from tqdm import tqdm\n",
    "import numpy as np\n",
    "import os"
   ]
  },
  {
   "cell_type": "code",
   "execution_count": null,
   "id": "b7bbd831-5e7d-4745-ac39-da07e8269d8e",
   "metadata": {
    "id": "b7bbd831-5e7d-4745-ac39-da07e8269d8e"
   },
   "outputs": [],
   "source": [
    "def list_wav_files_with_relative_path(folder):\n",
    "    wav_files = [os.path.relpath(os.path.join(root, file), folder) for root, dirs, files in os.walk(folder) for file in files if file.lower().endswith('.wav')]\n",
    "    return wav_files"
   ]
  },
  {
   "cell_type": "code",
   "execution_count": null,
   "id": "b9b2e738-7890-4aa4-a9cc-4f5267fa09a2",
   "metadata": {
    "id": "b9b2e738-7890-4aa4-a9cc-4f5267fa09a2"
   },
   "outputs": [],
   "source": [
    "def calculate_IPD(signal_left, signal_right, frequency, sample_rate):\n",
    "    # Compute the FFT of the signals\n",
    "    fft_left = np.fft.fft(signal_left)\n",
    "    fft_right = np.fft.fft(signal_right)\n",
    "\n",
    "    # Find the index of the frequency component\n",
    "    frequency_index = int(frequency * len(signal_left) / sample_rate)\n",
    "\n",
    "    # Calculate the phase difference\n",
    "    phase_left = np.angle(fft_left[frequency_index])\n",
    "    phase_right = np.angle(fft_right[frequency_index])\n",
    "\n",
    "    ipd_radians = phase_left - phase_right\n",
    "    #ipd_degrees = np.degrees(ipd_radians)\n",
    "\n",
    "    return ipd_radians"
   ]
  },
  {
   "cell_type": "code",
   "execution_count": null,
   "id": "c77bc55d-24e2-4e56-bce8-832cee52c862",
   "metadata": {
    "id": "c77bc55d-24e2-4e56-bce8-832cee52c862"
   },
   "outputs": [],
   "source": [
    "def get_all_IPD(signal_left,signal_right):\n",
    "  IPD =[]\n",
    "  for i in range(200,10200):\n",
    "      # Calculate IPD\n",
    "      ipd_radians = calculate_IPD(signal_left, signal_right, i, 22050)\n",
    "      IPD.append(ipd_radians)\n",
    "  return IPD"
   ]
  },
  {
   "cell_type": "code",
   "execution_count": null,
   "id": "91cb4d77-9abe-4043-bc5c-cbcba18e0288",
   "metadata": {
    "id": "91cb4d77-9abe-4043-bc5c-cbcba18e0288"
   },
   "outputs": [],
   "source": [
    "import numpy as np\n",
    "from scipy.signal import correlate\n",
    "\n",
    "def calculate_ITD(signal_left, signal_right,  target_frequency,sample_rate):\n",
    "\n",
    "    # Apply Fast Fourier Transform (FFT) to both signals\n",
    "    fft_left = np.fft.fft(signal_left)\n",
    "    fft_right = np.fft.fft(signal_right)\n",
    "\n",
    "    # Find the corresponding frequency bin for the target frequency\n",
    "    target_bin = int(target_frequency * len(fft_left) / sample_rate)\n",
    "\n",
    "    # Calculate the phase difference at the target frequency\n",
    "    phase_diff = np.angle(fft_left[target_bin]) - np.angle(fft_right[target_bin])\n",
    "\n",
    "    # Calculate the ITD in seconds using the phase difference\n",
    "    itd_seconds = phase_diff / (2 * np.pi * target_frequency)\n",
    "\n",
    "    return itd_seconds"
   ]
  },
  {
   "cell_type": "code",
   "execution_count": null,
   "id": "132a9514-a75f-48f2-8f44-9a88a2161111",
   "metadata": {
    "id": "132a9514-a75f-48f2-8f44-9a88a2161111"
   },
   "outputs": [],
   "source": [
    "def get_all_ITD(signal_left,signal_right):\n",
    "  ITD =[]\n",
    "  for i in range(200,10200):\n",
    "      # Calculate IPD\n",
    "      ipd_radians = calculate_IPD(signal_left, signal_right, i, 22050)\n",
    "      ITD.append(ipd_radians)\n",
    "  return ITD"
   ]
  },
  {
   "cell_type": "code",
   "execution_count": null,
   "id": "2608bee7-bd23-426d-aece-6fb5229ab5c4",
   "metadata": {
    "colab": {
     "base_uri": "https://localhost:8080/"
    },
    "id": "2608bee7-bd23-426d-aece-6fb5229ab5c4",
    "outputId": "a6de7b70-ed65-4a76-b4a2-ca1e8ec37148"
   },
   "outputs": [
    {
     "name": "stderr",
     "output_type": "stream",
     "text": [
      "\r",
      "  0%|          | 0/34 [00:00<?, ?it/s]"
     ]
    },
    {
     "name": "stdout",
     "output_type": "stream",
     "text": [
      "/content/drive/MyDrive/_originalSet_/_20_pos/Cleaned_dataset/segment_41.wav\n"
     ]
    },
    {
     "name": "stderr",
     "output_type": "stream",
     "text": [
      "\r",
      "  3%|▎         | 1/34 [01:18<43:14, 78.61s/it]"
     ]
    },
    {
     "name": "stdout",
     "output_type": "stream",
     "text": [
      "/content/drive/MyDrive/_originalSet_/_20_pos/Cleaned_dataset/segment_10.wav\n"
     ]
    },
    {
     "name": "stderr",
     "output_type": "stream",
     "text": [
      "\r",
      "  6%|▌         | 2/34 [02:30<39:58, 74.95s/it]"
     ]
    },
    {
     "name": "stdout",
     "output_type": "stream",
     "text": [
      "/content/drive/MyDrive/_originalSet_/_20_pos/Cleaned_dataset/segment_3.wav\n"
     ]
    },
    {
     "name": "stderr",
     "output_type": "stream",
     "text": [
      "\r",
      "  9%|▉         | 3/34 [03:44<38:22, 74.26s/it]"
     ]
    },
    {
     "name": "stdout",
     "output_type": "stream",
     "text": [
      "/content/drive/MyDrive/_originalSet_/_20_pos/Cleaned_dataset/segment_36.wav\n"
     ]
    },
    {
     "name": "stderr",
     "output_type": "stream",
     "text": [
      "\r",
      " 12%|█▏        | 4/34 [04:57<36:54, 73.81s/it]"
     ]
    },
    {
     "name": "stdout",
     "output_type": "stream",
     "text": [
      "/content/drive/MyDrive/_originalSet_/_20_pos/Cleaned_dataset/segment_33.wav\n"
     ]
    },
    {
     "name": "stderr",
     "output_type": "stream",
     "text": [
      "\r",
      " 15%|█▍        | 5/34 [06:09<35:25, 73.30s/it]"
     ]
    },
    {
     "name": "stdout",
     "output_type": "stream",
     "text": [
      "/content/drive/MyDrive/_originalSet_/_20_pos/Cleaned_dataset/segment_17.wav\n"
     ]
    },
    {
     "name": "stderr",
     "output_type": "stream",
     "text": [
      "\r",
      " 18%|█▊        | 6/34 [07:21<33:59, 72.83s/it]"
     ]
    },
    {
     "name": "stdout",
     "output_type": "stream",
     "text": [
      "/content/drive/MyDrive/_originalSet_/_20_pos/Cleaned_dataset/segment_24.wav\n"
     ]
    },
    {
     "name": "stderr",
     "output_type": "stream",
     "text": [
      "\r",
      " 21%|██        | 7/34 [08:34<32:42, 72.67s/it]"
     ]
    },
    {
     "name": "stdout",
     "output_type": "stream",
     "text": [
      "/content/drive/MyDrive/_originalSet_/_20_pos/Cleaned_dataset/segment_34.wav\n"
     ]
    },
    {
     "name": "stderr",
     "output_type": "stream",
     "text": [
      "\r",
      " 24%|██▎       | 8/34 [09:46<31:25, 72.51s/it]"
     ]
    },
    {
     "name": "stdout",
     "output_type": "stream",
     "text": [
      "/content/drive/MyDrive/_originalSet_/_20_pos/Cleaned_dataset/segment_47.wav\n"
     ]
    },
    {
     "name": "stderr",
     "output_type": "stream",
     "text": [
      "\r",
      " 26%|██▋       | 9/34 [10:58<30:07, 72.30s/it]"
     ]
    },
    {
     "name": "stdout",
     "output_type": "stream",
     "text": [
      "/content/drive/MyDrive/_originalSet_/_20_pos/Cleaned_dataset/segment_42.wav\n"
     ]
    },
    {
     "name": "stderr",
     "output_type": "stream",
     "text": [
      "\r",
      " 29%|██▉       | 10/34 [12:10<28:54, 72.27s/it]"
     ]
    },
    {
     "name": "stdout",
     "output_type": "stream",
     "text": [
      "/content/drive/MyDrive/_originalSet_/_20_pos/Cleaned_dataset/segment_13.wav\n"
     ]
    },
    {
     "name": "stderr",
     "output_type": "stream",
     "text": [
      "\r",
      " 32%|███▏      | 11/34 [13:22<27:40, 72.21s/it]"
     ]
    },
    {
     "name": "stdout",
     "output_type": "stream",
     "text": [
      "/content/drive/MyDrive/_originalSet_/_20_pos/Cleaned_dataset/segment_45.wav\n"
     ]
    },
    {
     "name": "stderr",
     "output_type": "stream",
     "text": [
      "\r",
      " 35%|███▌      | 12/34 [14:35<26:31, 72.33s/it]"
     ]
    },
    {
     "name": "stdout",
     "output_type": "stream",
     "text": [
      "/content/drive/MyDrive/_originalSet_/_20_pos/Cleaned_dataset/segment_15.wav\n"
     ]
    },
    {
     "name": "stderr",
     "output_type": "stream",
     "text": [
      "\r",
      " 38%|███▊      | 13/34 [15:47<25:18, 72.29s/it]"
     ]
    },
    {
     "name": "stdout",
     "output_type": "stream",
     "text": [
      "/content/drive/MyDrive/_originalSet_/_20_pos/Cleaned_dataset/segment_2.wav\n"
     ]
    },
    {
     "name": "stderr",
     "output_type": "stream",
     "text": [
      "\r",
      " 41%|████      | 14/34 [16:59<24:05, 72.27s/it]"
     ]
    },
    {
     "name": "stdout",
     "output_type": "stream",
     "text": [
      "/content/drive/MyDrive/_originalSet_/_20_pos/Cleaned_dataset/segment_26.wav\n"
     ]
    },
    {
     "name": "stderr",
     "output_type": "stream",
     "text": [
      "\r",
      " 44%|████▍     | 15/34 [18:11<22:52, 72.25s/it]"
     ]
    },
    {
     "name": "stdout",
     "output_type": "stream",
     "text": [
      "/content/drive/MyDrive/_originalSet_/_20_pos/Cleaned_dataset/segment_22.wav\n"
     ]
    },
    {
     "name": "stderr",
     "output_type": "stream",
     "text": [
      "\r",
      " 47%|████▋     | 16/34 [19:23<21:39, 72.19s/it]"
     ]
    },
    {
     "name": "stdout",
     "output_type": "stream",
     "text": [
      "/content/drive/MyDrive/_originalSet_/_20_pos/Cleaned_dataset/segment_23.wav\n"
     ]
    },
    {
     "name": "stderr",
     "output_type": "stream",
     "text": [
      "\r",
      " 50%|█████     | 17/34 [20:35<20:25, 72.12s/it]"
     ]
    },
    {
     "name": "stdout",
     "output_type": "stream",
     "text": [
      "/content/drive/MyDrive/_originalSet_/_20_pos/Cleaned_dataset/segment_43.wav\n"
     ]
    },
    {
     "name": "stderr",
     "output_type": "stream",
     "text": [
      "\r",
      " 53%|█████▎    | 18/34 [21:47<19:13, 72.09s/it]"
     ]
    },
    {
     "name": "stdout",
     "output_type": "stream",
     "text": [
      "/content/drive/MyDrive/_originalSet_/_20_pos/Cleaned_dataset/segment_20.wav\n"
     ]
    },
    {
     "name": "stderr",
     "output_type": "stream",
     "text": [
      "\r",
      " 56%|█████▌    | 19/34 [22:59<18:00, 72.04s/it]"
     ]
    },
    {
     "name": "stdout",
     "output_type": "stream",
     "text": [
      "/content/drive/MyDrive/_originalSet_/_20_pos/Cleaned_dataset/segment_1.wav\n"
     ]
    },
    {
     "name": "stderr",
     "output_type": "stream",
     "text": [
      "\r",
      " 59%|█████▉    | 20/34 [24:11<16:49, 72.09s/it]"
     ]
    },
    {
     "name": "stdout",
     "output_type": "stream",
     "text": [
      "/content/drive/MyDrive/_originalSet_/_20_pos/Cleaned_dataset/segment_8.wav\n"
     ]
    },
    {
     "name": "stderr",
     "output_type": "stream",
     "text": [
      "\r",
      " 62%|██████▏   | 21/34 [25:24<15:38, 72.23s/it]"
     ]
    },
    {
     "name": "stdout",
     "output_type": "stream",
     "text": [
      "/content/drive/MyDrive/_originalSet_/_20_pos/Cleaned_dataset/segment_30.wav\n"
     ]
    },
    {
     "name": "stderr",
     "output_type": "stream",
     "text": [
      "\r",
      " 65%|██████▍   | 22/34 [26:36<14:27, 72.27s/it]"
     ]
    },
    {
     "name": "stdout",
     "output_type": "stream",
     "text": [
      "/content/drive/MyDrive/_originalSet_/_20_pos/Cleaned_dataset/segment_32.wav\n"
     ]
    },
    {
     "name": "stderr",
     "output_type": "stream",
     "text": [
      "\r",
      " 68%|██████▊   | 23/34 [27:49<13:14, 72.25s/it]"
     ]
    },
    {
     "name": "stdout",
     "output_type": "stream",
     "text": [
      "/content/drive/MyDrive/_originalSet_/_20_pos/Cleaned_dataset/segment_21.wav\n"
     ]
    },
    {
     "name": "stderr",
     "output_type": "stream",
     "text": [
      "\r",
      " 71%|███████   | 24/34 [29:01<12:02, 72.24s/it]"
     ]
    },
    {
     "name": "stdout",
     "output_type": "stream",
     "text": [
      "/content/drive/MyDrive/_originalSet_/_20_pos/Cleaned_dataset/segment_14.wav\n"
     ]
    },
    {
     "name": "stderr",
     "output_type": "stream",
     "text": [
      "\r",
      " 74%|███████▎  | 25/34 [30:13<10:49, 72.11s/it]"
     ]
    },
    {
     "name": "stdout",
     "output_type": "stream",
     "text": [
      "/content/drive/MyDrive/_originalSet_/_20_pos/Cleaned_dataset/segment_31.wav\n"
     ]
    },
    {
     "name": "stderr",
     "output_type": "stream",
     "text": [
      "\r",
      " 76%|███████▋  | 26/34 [31:24<09:35, 72.00s/it]"
     ]
    },
    {
     "name": "stdout",
     "output_type": "stream",
     "text": [
      "/content/drive/MyDrive/_originalSet_/_20_pos/Cleaned_dataset/segment_5.wav\n"
     ]
    },
    {
     "name": "stderr",
     "output_type": "stream",
     "text": [
      "\r",
      " 79%|███████▉  | 27/34 [32:36<08:23, 71.95s/it]"
     ]
    },
    {
     "name": "stdout",
     "output_type": "stream",
     "text": [
      "/content/drive/MyDrive/_originalSet_/_20_pos/Cleaned_dataset/segment_16.wav\n"
     ]
    },
    {
     "name": "stderr",
     "output_type": "stream",
     "text": [
      "\r",
      " 82%|████████▏ | 28/34 [33:48<07:11, 71.93s/it]"
     ]
    },
    {
     "name": "stdout",
     "output_type": "stream",
     "text": [
      "/content/drive/MyDrive/_originalSet_/_20_pos/Cleaned_dataset/segment_37.wav\n"
     ]
    },
    {
     "name": "stderr",
     "output_type": "stream",
     "text": [
      "\r",
      " 85%|████████▌ | 29/34 [35:00<05:59, 71.99s/it]"
     ]
    },
    {
     "name": "stdout",
     "output_type": "stream",
     "text": [
      "/content/drive/MyDrive/_originalSet_/_20_pos/Cleaned_dataset/segment_44.wav\n"
     ]
    },
    {
     "name": "stderr",
     "output_type": "stream",
     "text": [
      "\r",
      " 88%|████████▊ | 30/34 [36:13<04:48, 72.13s/it]"
     ]
    },
    {
     "name": "stdout",
     "output_type": "stream",
     "text": [
      "/content/drive/MyDrive/_originalSet_/_20_pos/Cleaned_dataset/segment_46.wav\n"
     ]
    },
    {
     "name": "stderr",
     "output_type": "stream",
     "text": [
      "\r",
      " 91%|█████████ | 31/34 [37:25<03:36, 72.15s/it]"
     ]
    },
    {
     "name": "stdout",
     "output_type": "stream",
     "text": [
      "/content/drive/MyDrive/_originalSet_/_20_pos/Cleaned_dataset/segment_9.wav\n"
     ]
    },
    {
     "name": "stderr",
     "output_type": "stream",
     "text": [
      "\r",
      " 94%|█████████▍| 32/34 [38:37<02:24, 72.15s/it]"
     ]
    },
    {
     "name": "stdout",
     "output_type": "stream",
     "text": [
      "/content/drive/MyDrive/_originalSet_/_20_pos/Cleaned_dataset/segment_4.wav\n"
     ]
    },
    {
     "name": "stderr",
     "output_type": "stream",
     "text": [
      "\r",
      " 97%|█████████▋| 33/34 [39:49<01:12, 72.08s/it]"
     ]
    },
    {
     "name": "stdout",
     "output_type": "stream",
     "text": [
      "/content/drive/MyDrive/_originalSet_/_20_pos/Cleaned_dataset/segment_35.wav\n"
     ]
    },
    {
     "name": "stderr",
     "output_type": "stream",
     "text": [
      "100%|██████████| 34/34 [41:01<00:00, 72.39s/it]\n"
     ]
    },
    {
     "name": "stdout",
     "output_type": "stream",
     "text": [
      "Data frame shape: (34, 4)\n"
     ]
    }
   ],
   "source": [
    "#All Main setup\n",
    "angle = 19\n",
    "folder_1 = location + \"Cleaned_dataset\"\n",
    "\n",
    "extracted_features=[]\n",
    "extracted_features.clear()\n",
    "\n",
    "wav_filenames = list_wav_files_with_relative_path(folder_1)\n",
    "\n",
    "# Print the WAV filenames with relative paths\n",
    "for filename in tqdm(wav_filenames):\n",
    "    folder_and_file = os.path.join(folder_1, filename)\n",
    "    print(folder_and_file)\n",
    "    # ef_pan= angle\n",
    "    y_stereo, sr = librosa.load(folder_and_file,sr=22050, mono=False)\n",
    "    # Get TID, IPD\n",
    "    Left = y_stereo[0]\n",
    "    right = y_stereo[1]\n",
    "    full_IPD = get_all_IPD(Left, right)\n",
    "    full_ITD = get_all_ITD(Left, right)\n",
    "    extracted_features.append([filename,full_IPD,full_ITD,angle])\n",
    "\n",
    "\n",
    "import pandas as pd\n",
    "out_data_frame = pd.DataFrame(extracted_features,columns=['filename','IPD','ITD','angle'])\n",
    "print(\"Data frame shape:\",out_data_frame.shape)\n",
    "\n",
    "out_data_frame.to_pickle(location+\"DataFrame_pos20.pkl\")"
   ]
  },
  {
   "cell_type": "code",
   "execution_count": null,
   "id": "e97285ea-cbaa-4e08-b5e4-15ec6af09cdf",
   "metadata": {
    "id": "e97285ea-cbaa-4e08-b5e4-15ec6af09cdf"
   },
   "outputs": [],
   "source": []
  }
 ],
 "metadata": {
  "colab": {
   "provenance": []
  },
  "kernelspec": {
   "display_name": "Python 3 (ipykernel)",
   "language": "python",
   "name": "python3"
  },
  "language_info": {
   "codemirror_mode": {
    "name": "ipython",
    "version": 3
   },
   "file_extension": ".py",
   "mimetype": "text/x-python",
   "name": "python",
   "nbconvert_exporter": "python",
   "pygments_lexer": "ipython3",
   "version": "3.12.3"
  }
 },
 "nbformat": 4,
 "nbformat_minor": 5
}
